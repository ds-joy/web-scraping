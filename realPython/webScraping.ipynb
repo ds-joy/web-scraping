{
  "nbformat": 4,
  "nbformat_minor": 0,
  "metadata": {
    "colab": {
      "name": "webScraping.ipynb",
      "provenance": [],
      "authorship_tag": "ABX9TyOMzay73PPp7yhfKbh9RV6u",
      "include_colab_link": true
    },
    "kernelspec": {
      "name": "python3",
      "display_name": "Python 3"
    },
    "language_info": {
      "name": "python"
    }
  },
  "cells": [
    {
      "cell_type": "markdown",
      "metadata": {
        "id": "view-in-github",
        "colab_type": "text"
      },
      "source": [
        "<a href=\"https://colab.research.google.com/github/ds-joy/web-scraping/blob/main/realPython/webScraping.ipynb\" target=\"_parent\"><img src=\"https://colab.research.google.com/assets/colab-badge.svg\" alt=\"Open In Colab\"/></a>"
      ]
    },
    {
      "cell_type": "markdown",
      "metadata": {
        "id": "ST-R1qS0tL7R"
      },
      "source": [
        "####One useful package for web scraping that you can find in Python’s standard library is urllib, which contains tools for working with URLs. In particular, the urllib.request module contains a function called urlopen() that can be used to open a URL within a program.\n"
      ]
    },
    {
      "cell_type": "code",
      "metadata": {
        "id": "AsnJtwRAsOWl"
      },
      "source": [
        "from urllib.request import urlopen"
      ],
      "execution_count": 1,
      "outputs": []
    },
    {
      "cell_type": "markdown",
      "metadata": {
        "id": "e4-VSAxXtmd6"
      },
      "source": [
        "####The web page that we’ll open is at the following URL:"
      ]
    },
    {
      "cell_type": "code",
      "metadata": {
        "id": "Rj-2dAoSthzj"
      },
      "source": [
        "url = \"http://olympus.realpython.org/profiles/aphrodite\"\n",
        "page = urlopen(url)"
      ],
      "execution_count": 15,
      "outputs": []
    },
    {
      "cell_type": "markdown",
      "metadata": {
        "id": "jZiZHeBot6sz"
      },
      "source": [
        "urlopen() returns an HTTPResponse object"
      ]
    },
    {
      "cell_type": "code",
      "metadata": {
        "colab": {
          "base_uri": "https://localhost:8080/"
        },
        "id": "NqOlPKEytxxY",
        "outputId": "e61b6490-ae37-48dc-c3a0-641aa16da766"
      },
      "source": [
        "page"
      ],
      "execution_count": 16,
      "outputs": [
        {
          "output_type": "execute_result",
          "data": {
            "text/plain": [
              "<http.client.HTTPResponse at 0x7f8031599ed0>"
            ]
          },
          "metadata": {
            "tags": []
          },
          "execution_count": 16
        }
      ]
    },
    {
      "cell_type": "markdown",
      "metadata": {
        "id": "WNLwE7LjuIxh"
      },
      "source": [
        "To extract the HTML from the page, first use the HTTPResponse object’s .read() method, which returns a sequence of bytes. Then use .decode() to decode the bytes to a string using UTF-8:"
      ]
    },
    {
      "cell_type": "code",
      "metadata": {
        "colab": {
          "base_uri": "https://localhost:8080/"
        },
        "id": "4uQg3Bppt0Nv",
        "outputId": "db1fffb2-e5be-409d-b084-bd99245d4b9d"
      },
      "source": [
        "html_bytes = page.read()\n",
        "html = html_bytes.decode(\"utf-8\")\n",
        "\n",
        "print(html)"
      ],
      "execution_count": 17,
      "outputs": [
        {
          "output_type": "stream",
          "text": [
            "<html>\n",
            "<head>\n",
            "<title>Profile: Aphrodite</title>\n",
            "</head>\n",
            "<body bgcolor=\"yellow\">\n",
            "<center>\n",
            "<br><br>\n",
            "<img src=\"/static/aphrodite.gif\" />\n",
            "<h2>Name: Aphrodite</h2>\n",
            "<br><br>\n",
            "Favorite animal: Dove\n",
            "<br><br>\n",
            "Favorite color: Red\n",
            "<br><br>\n",
            "Hometown: Mount Olympus\n",
            "</center>\n",
            "</body>\n",
            "</html>\n",
            "\n"
          ],
          "name": "stdout"
        }
      ]
    },
    {
      "cell_type": "markdown",
      "metadata": {
        "id": "B53k1QcUwDf-"
      },
      "source": [
        "#### Extracting the title"
      ]
    },
    {
      "cell_type": "code",
      "metadata": {
        "colab": {
          "base_uri": "https://localhost:8080/"
        },
        "id": "h4XTMW5ZuVB5",
        "outputId": "fbac2206-f0e5-4fa5-99d0-3394702030df"
      },
      "source": [
        "title_index = html.find(\"<title>\")\n",
        "title_index"
      ],
      "execution_count": 18,
      "outputs": [
        {
          "output_type": "execute_result",
          "data": {
            "text/plain": [
              "14"
            ]
          },
          "metadata": {
            "tags": []
          },
          "execution_count": 18
        }
      ]
    },
    {
      "cell_type": "code",
      "metadata": {
        "colab": {
          "base_uri": "https://localhost:8080/"
        },
        "id": "cP_apL2tvc2W",
        "outputId": "199a2557-0c0a-4c6e-f083-aa6c881e4a7f"
      },
      "source": [
        "start_index = title_index + len(\"<title>\")\n",
        "start_index"
      ],
      "execution_count": 19,
      "outputs": [
        {
          "output_type": "execute_result",
          "data": {
            "text/plain": [
              "21"
            ]
          },
          "metadata": {
            "tags": []
          },
          "execution_count": 19
        }
      ]
    },
    {
      "cell_type": "code",
      "metadata": {
        "colab": {
          "base_uri": "https://localhost:8080/"
        },
        "id": "W_TqEbnqvuiS",
        "outputId": "b7a7177a-66d4-4d29-89c7-8d8d3d6acb4d"
      },
      "source": [
        "end_index = html.find(\"</title>\")\n",
        "end_index"
      ],
      "execution_count": 20,
      "outputs": [
        {
          "output_type": "execute_result",
          "data": {
            "text/plain": [
              "39"
            ]
          },
          "metadata": {
            "tags": []
          },
          "execution_count": 20
        }
      ]
    },
    {
      "cell_type": "code",
      "metadata": {
        "colab": {
          "base_uri": "https://localhost:8080/",
          "height": 35
        },
        "id": "W1uediaDv3--",
        "outputId": "01a6aafd-b2d9-4640-d462-00f18c13c7a5"
      },
      "source": [
        "title = html[start_index:end_index]\n",
        "title"
      ],
      "execution_count": 21,
      "outputs": [
        {
          "output_type": "execute_result",
          "data": {
            "application/vnd.google.colaboratory.intrinsic+json": {
              "type": "string"
            },
            "text/plain": [
              "'Profile: Aphrodite'"
            ]
          },
          "metadata": {
            "tags": []
          },
          "execution_count": 21
        }
      ]
    },
    {
      "cell_type": "markdown",
      "metadata": {
        "id": "Vk0YH2f0wOJ6"
      },
      "source": [
        "####Another title"
      ]
    },
    {
      "cell_type": "code",
      "metadata": {
        "colab": {
          "base_uri": "https://localhost:8080/"
        },
        "id": "HKiSQEP-v_Cj",
        "outputId": "8051c3f4-1dc9-4db6-bf90-f02f643da4bd"
      },
      "source": [
        "url2 = \"http://olympus.realpython.org/profiles/poseidon\"\n",
        "page2 = urlopen(url2)\n",
        "\n",
        "html2 = page2.read().decode(\"utf-8\")\n",
        "print(html2)"
      ],
      "execution_count": 24,
      "outputs": [
        {
          "output_type": "stream",
          "text": [
            "<html>\n",
            "<head>\n",
            "<title >Profile: Poseidon</title>\n",
            "</head>\n",
            "<body bgcolor=\"yellow\">\n",
            "<center>\n",
            "<br><br>\n",
            "<img src=\"/static/poseidon.jpg\" />\n",
            "<h2>Name: Poseidon</h2>\n",
            "<br><br>\n",
            "Favorite animal: Dolphin\n",
            "<br><br>\n",
            "Favorite color: Blue\n",
            "<br><br>\n",
            "Hometown: Sea\n",
            "</center>\n",
            "</body>\n",
            "</html>\n",
            "\n"
          ],
          "name": "stdout"
        }
      ]
    },
    {
      "cell_type": "code",
      "metadata": {
        "colab": {
          "base_uri": "https://localhost:8080/",
          "height": 35
        },
        "id": "opEvTApmxkM6",
        "outputId": "cf2c1018-2e7b-4050-d191-40fd32a4865b"
      },
      "source": [
        "start = html2.find(\"<title>\") + len(\"<title>\")\n",
        "end = html2.find(\"</title>\")\n",
        "\n",
        "title2 = html2[start:end]\n",
        "title2"
      ],
      "execution_count": 25,
      "outputs": [
        {
          "output_type": "execute_result",
          "data": {
            "application/vnd.google.colaboratory.intrinsic+json": {
              "type": "string"
            },
            "text/plain": [
              "'\\n<head>\\n<title >Profile: Poseidon'"
            ]
          },
          "metadata": {
            "tags": []
          },
          "execution_count": 25
        }
      ]
    },
    {
      "cell_type": "code",
      "metadata": {
        "id": "JPdgFtchyFBQ"
      },
      "source": [
        ""
      ],
      "execution_count": null,
      "outputs": []
    }
  ]
}