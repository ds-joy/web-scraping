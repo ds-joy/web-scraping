{
  "nbformat": 4,
  "nbformat_minor": 0,
  "metadata": {
    "colab": {
      "name": "webScraping.ipynb",
      "provenance": [],
      "authorship_tag": "ABX9TyNZ23ERtV4EK6BYwlTQmcdn",
      "include_colab_link": true
    },
    "kernelspec": {
      "name": "python3",
      "display_name": "Python 3"
    },
    "language_info": {
      "name": "python"
    }
  },
  "cells": [
    {
      "cell_type": "markdown",
      "metadata": {
        "id": "view-in-github",
        "colab_type": "text"
      },
      "source": [
        "<a href=\"https://colab.research.google.com/github/ds-joy/web-scraping/blob/main/realPython/webScraping.ipynb\" target=\"_parent\"><img src=\"https://colab.research.google.com/assets/colab-badge.svg\" alt=\"Open In Colab\"/></a>"
      ]
    },
    {
      "cell_type": "markdown",
      "metadata": {
        "id": "ST-R1qS0tL7R"
      },
      "source": [
        "####One useful package for web scraping that you can find in Python’s standard library is urllib, which contains tools for working with URLs. In particular, the urllib.request module contains a function called urlopen() that can be used to open a URL within a program.\n"
      ]
    },
    {
      "cell_type": "code",
      "metadata": {
        "id": "AsnJtwRAsOWl"
      },
      "source": [
        "from urllib.request import urlopen"
      ],
      "execution_count": 2,
      "outputs": []
    },
    {
      "cell_type": "markdown",
      "metadata": {
        "id": "e4-VSAxXtmd6"
      },
      "source": [
        "####The web page that we’ll open is at the following URL:"
      ]
    },
    {
      "cell_type": "code",
      "metadata": {
        "id": "Rj-2dAoSthzj"
      },
      "source": [
        "url = \"http://olympus.realpython.org/profiles/aphrodite\"\n",
        "page = urlopen(url)"
      ],
      "execution_count": 3,
      "outputs": []
    },
    {
      "cell_type": "markdown",
      "metadata": {
        "id": "jZiZHeBot6sz"
      },
      "source": [
        "urlopen() returns an HTTPResponse object"
      ]
    },
    {
      "cell_type": "code",
      "metadata": {
        "colab": {
          "base_uri": "https://localhost:8080/"
        },
        "id": "NqOlPKEytxxY",
        "outputId": "9f6093c4-9441-46d7-af77-30409ef5f000"
      },
      "source": [
        "page"
      ],
      "execution_count": 4,
      "outputs": [
        {
          "output_type": "execute_result",
          "data": {
            "text/plain": [
              "<http.client.HTTPResponse at 0x7f466c352510>"
            ]
          },
          "metadata": {
            "tags": []
          },
          "execution_count": 4
        }
      ]
    },
    {
      "cell_type": "markdown",
      "metadata": {
        "id": "WNLwE7LjuIxh"
      },
      "source": [
        "To extract the HTML from the page, first use the HTTPResponse object’s .read() method, which returns a sequence of bytes. Then use .decode() to decode the bytes to a string using UTF-8:"
      ]
    },
    {
      "cell_type": "code",
      "metadata": {
        "colab": {
          "base_uri": "https://localhost:8080/"
        },
        "id": "4uQg3Bppt0Nv",
        "outputId": "82314fb3-b22e-4392-e9de-42822f2851f6"
      },
      "source": [
        "html_bytes = page.read()\n",
        "html = html_bytes.decode(\"utf-8\")\n",
        "\n",
        "print(html)"
      ],
      "execution_count": 5,
      "outputs": [
        {
          "output_type": "stream",
          "text": [
            "<html>\n",
            "<head>\n",
            "<title>Profile: Aphrodite</title>\n",
            "</head>\n",
            "<body bgcolor=\"yellow\">\n",
            "<center>\n",
            "<br><br>\n",
            "<img src=\"/static/aphrodite.gif\" />\n",
            "<h2>Name: Aphrodite</h2>\n",
            "<br><br>\n",
            "Favorite animal: Dove\n",
            "<br><br>\n",
            "Favorite color: Red\n",
            "<br><br>\n",
            "Hometown: Mount Olympus\n",
            "</center>\n",
            "</body>\n",
            "</html>\n",
            "\n"
          ],
          "name": "stdout"
        }
      ]
    },
    {
      "cell_type": "markdown",
      "metadata": {
        "id": "B53k1QcUwDf-"
      },
      "source": [
        "#### Extracting the title"
      ]
    },
    {
      "cell_type": "code",
      "metadata": {
        "colab": {
          "base_uri": "https://localhost:8080/"
        },
        "id": "h4XTMW5ZuVB5",
        "outputId": "2ad92fcb-bbed-4901-8799-846a0f868da1"
      },
      "source": [
        "title_index = html.find(\"<title>\")\n",
        "title_index"
      ],
      "execution_count": 6,
      "outputs": [
        {
          "output_type": "execute_result",
          "data": {
            "text/plain": [
              "14"
            ]
          },
          "metadata": {
            "tags": []
          },
          "execution_count": 6
        }
      ]
    },
    {
      "cell_type": "code",
      "metadata": {
        "colab": {
          "base_uri": "https://localhost:8080/"
        },
        "id": "cP_apL2tvc2W",
        "outputId": "e85cb193-c2ce-4227-8b90-3b94dc51840a"
      },
      "source": [
        "start_index = title_index + len(\"<title>\")\n",
        "start_index"
      ],
      "execution_count": 7,
      "outputs": [
        {
          "output_type": "execute_result",
          "data": {
            "text/plain": [
              "21"
            ]
          },
          "metadata": {
            "tags": []
          },
          "execution_count": 7
        }
      ]
    },
    {
      "cell_type": "code",
      "metadata": {
        "colab": {
          "base_uri": "https://localhost:8080/"
        },
        "id": "W_TqEbnqvuiS",
        "outputId": "0421c2a8-532c-456d-a4b8-1a91ce022b57"
      },
      "source": [
        "end_index = html.find(\"</title>\")\n",
        "end_index"
      ],
      "execution_count": 8,
      "outputs": [
        {
          "output_type": "execute_result",
          "data": {
            "text/plain": [
              "39"
            ]
          },
          "metadata": {
            "tags": []
          },
          "execution_count": 8
        }
      ]
    },
    {
      "cell_type": "code",
      "metadata": {
        "colab": {
          "base_uri": "https://localhost:8080/",
          "height": 35
        },
        "id": "W1uediaDv3--",
        "outputId": "7daae9af-ddfb-4401-8045-8c1a5506fc95"
      },
      "source": [
        "title = html[start_index:end_index]\n",
        "title"
      ],
      "execution_count": 9,
      "outputs": [
        {
          "output_type": "execute_result",
          "data": {
            "application/vnd.google.colaboratory.intrinsic+json": {
              "type": "string"
            },
            "text/plain": [
              "'Profile: Aphrodite'"
            ]
          },
          "metadata": {
            "tags": []
          },
          "execution_count": 9
        }
      ]
    },
    {
      "cell_type": "markdown",
      "metadata": {
        "id": "Vk0YH2f0wOJ6"
      },
      "source": [
        "####Another title"
      ]
    },
    {
      "cell_type": "code",
      "metadata": {
        "colab": {
          "base_uri": "https://localhost:8080/"
        },
        "id": "HKiSQEP-v_Cj",
        "outputId": "c2acbeb3-d5c2-444e-8591-1b19ce71440c"
      },
      "source": [
        "url2 = \"http://olympus.realpython.org/profiles/poseidon\"\n",
        "page2 = urlopen(url2)\n",
        "\n",
        "html2 = page2.read().decode(\"utf-8\")\n",
        "print(html2)"
      ],
      "execution_count": 10,
      "outputs": [
        {
          "output_type": "stream",
          "text": [
            "<html>\n",
            "<head>\n",
            "<title >Profile: Poseidon</title>\n",
            "</head>\n",
            "<body bgcolor=\"yellow\">\n",
            "<center>\n",
            "<br><br>\n",
            "<img src=\"/static/poseidon.jpg\" />\n",
            "<h2>Name: Poseidon</h2>\n",
            "<br><br>\n",
            "Favorite animal: Dolphin\n",
            "<br><br>\n",
            "Favorite color: Blue\n",
            "<br><br>\n",
            "Hometown: Sea\n",
            "</center>\n",
            "</body>\n",
            "</html>\n",
            "\n"
          ],
          "name": "stdout"
        }
      ]
    },
    {
      "cell_type": "code",
      "metadata": {
        "colab": {
          "base_uri": "https://localhost:8080/",
          "height": 35
        },
        "id": "opEvTApmxkM6",
        "outputId": "10777f4b-c2a0-433c-bb50-398f6b072d9d"
      },
      "source": [
        "start = html2.find(\"<title>\") + len(\"<title>\")\n",
        "end = html2.find(\"</title>\")\n",
        "\n",
        "title2 = html2[start:end]\n",
        "title2"
      ],
      "execution_count": 11,
      "outputs": [
        {
          "output_type": "execute_result",
          "data": {
            "application/vnd.google.colaboratory.intrinsic+json": {
              "type": "string"
            },
            "text/plain": [
              "'\\n<head>\\n<title >Profile: Poseidon'"
            ]
          },
          "metadata": {
            "tags": []
          },
          "execution_count": 11
        }
      ]
    },
    {
      "cell_type": "markdown",
      "metadata": {
        "id": "Mr1W8L5K0BMo"
      },
      "source": [
        "###Regular expressions"
      ]
    },
    {
      "cell_type": "code",
      "metadata": {
        "colab": {
          "base_uri": "https://localhost:8080/"
        },
        "id": "JPdgFtchyFBQ",
        "outputId": "ab92d2e9-8a68-4502-807f-e787a24082b8"
      },
      "source": [
        "import re\n",
        "re.findall(\"ab*c\", \"abcd\")"
      ],
      "execution_count": 12,
      "outputs": [
        {
          "output_type": "execute_result",
          "data": {
            "text/plain": [
              "['abc']"
            ]
          },
          "metadata": {
            "tags": []
          },
          "execution_count": 12
        }
      ]
    },
    {
      "cell_type": "markdown",
      "metadata": {
        "id": "ebA7aWm30zWU"
      },
      "source": [
        "The regular expression \"ab*c\" matches any part of the string that begins with an \"a\", ends with a \"c\", and has zero or more instances of \"b\" between the two. re.findall() returns a list of all matches. The string \"ac\" matches this pattern, so it’s returned in the list."
      ]
    },
    {
      "cell_type": "code",
      "metadata": {
        "colab": {
          "base_uri": "https://localhost:8080/"
        },
        "id": "hQhd-VIm0yGJ",
        "outputId": "eec0e341-8e5a-4e16-c8d5-b27945bf07ba"
      },
      "source": [
        "print(re.findall(\"ab*c\", \"abcd\"))\n",
        "print(re.findall(\"ab*c\", \"acc\"))\n",
        "print(re.findall(\"ab*c\", \"abdc\"))\n",
        "re.findall(\"ab*c\", \"abcac\")\n"
      ],
      "execution_count": 13,
      "outputs": [
        {
          "output_type": "stream",
          "text": [
            "['abc']\n",
            "['ac']\n",
            "[]\n"
          ],
          "name": "stdout"
        },
        {
          "output_type": "execute_result",
          "data": {
            "text/plain": [
              "['abc', 'ac']"
            ]
          },
          "metadata": {
            "tags": []
          },
          "execution_count": 13
        }
      ]
    },
    {
      "cell_type": "code",
      "metadata": {
        "colab": {
          "base_uri": "https://localhost:8080/"
        },
        "id": "2ep8FMaS0p11",
        "outputId": "cfb13c52-b926-4491-ce9c-fd00af19ff90"
      },
      "source": [
        "re.findall(\"ab*c\", \"ABCD\", re.IGNORECASE)"
      ],
      "execution_count": 14,
      "outputs": [
        {
          "output_type": "execute_result",
          "data": {
            "text/plain": [
              "['ABC']"
            ]
          },
          "metadata": {
            "tags": []
          },
          "execution_count": 14
        }
      ]
    },
    {
      "cell_type": "markdown",
      "metadata": {
        "id": "s0RCVuHu1ydN"
      },
      "source": [
        "You can use a period (.) to stand for any single character in a regular expression. For instance, you could find all the strings that contain the letters \"a\" and \"c\" separated by a single character as follows:"
      ]
    },
    {
      "cell_type": "code",
      "metadata": {
        "colab": {
          "base_uri": "https://localhost:8080/"
        },
        "id": "aFqHABri11I8",
        "outputId": "277976d8-0436-4fc3-b4bd-9a859d77a814"
      },
      "source": [
        "print(re.findall(\"a.c\", \"abc\"))\n",
        "print(re.findall(\"a.c\", \"abbc\"))\n",
        "print(re.findall(\"a.c\", \"ac\"))"
      ],
      "execution_count": 15,
      "outputs": [
        {
          "output_type": "stream",
          "text": [
            "['abc']\n",
            "[]\n",
            "[]\n"
          ],
          "name": "stdout"
        }
      ]
    },
    {
      "cell_type": "code",
      "metadata": {
        "id": "MzrsyriQ18eK",
        "colab": {
          "base_uri": "https://localhost:8080/"
        },
        "outputId": "8d7a4030-09fc-4fe3-8e23-c34a82f5a19c"
      },
      "source": [
        "print(re.findall(\"a.*c\", \"abc\"))\n",
        "print(re.findall(\"a.*c\", \"abbc\"))\n",
        "print(re.findall(\"a.*c\", \"ac\"))"
      ],
      "execution_count": 16,
      "outputs": [
        {
          "output_type": "stream",
          "text": [
            "['abc']\n",
            "['abbc']\n",
            "['ac']\n"
          ],
          "name": "stdout"
        }
      ]
    },
    {
      "cell_type": "markdown",
      "metadata": {
        "id": "RHHm10DhCDTm"
      },
      "source": [
        "There’s one more function in the re module that’s useful for parsing out text. re.sub(), which is short for substitute, allows you to replace text in a string that matches a regular expression with new text. It behaves sort of like the .replace() string method.\n",
        "\n",
        "The arguments passed to re.sub() are the regular expression, followed by the replacement text, followed by the string. Here’s an example:\n"
      ]
    },
    {
      "cell_type": "code",
      "metadata": {
        "colab": {
          "base_uri": "https://localhost:8080/",
          "height": 35
        },
        "id": "hZfOlYXDBi7K",
        "outputId": "f2907086-e218-4102-d840-5b78e821a067"
      },
      "source": [
        "string = \"Everything is <replased> if it's in <tags>.\"\n",
        "string = re.sub(\"<.*>\", \"ELEPHANTS\", string)\n",
        "string"
      ],
      "execution_count": 17,
      "outputs": [
        {
          "output_type": "execute_result",
          "data": {
            "application/vnd.google.colaboratory.intrinsic+json": {
              "type": "string"
            },
            "text/plain": [
              "'Everything is ELEPHANTS.'"
            ]
          },
          "metadata": {
            "tags": []
          },
          "execution_count": 17
        }
      ]
    },
    {
      "cell_type": "code",
      "metadata": {
        "colab": {
          "base_uri": "https://localhost:8080/",
          "height": 35
        },
        "id": "Ciy7T86NC4Ba",
        "outputId": "37c7793a-1b58-4839-e85d-d80b417e27b6"
      },
      "source": [
        "string = \"Everything is <replased> if it's in <tags>.\"\n",
        "string = re.sub(\"<.*?>\", \"ELEPHANTS\", string)\n",
        "string"
      ],
      "execution_count": 18,
      "outputs": [
        {
          "output_type": "execute_result",
          "data": {
            "application/vnd.google.colaboratory.intrinsic+json": {
              "type": "string"
            },
            "text/plain": [
              "\"Everything is ELEPHANTS if it's in ELEPHANTS.\""
            ]
          },
          "metadata": {
            "tags": []
          },
          "execution_count": 18
        }
      ]
    },
    {
      "cell_type": "code",
      "metadata": {
        "id": "drV6LRb8DNYH"
      },
      "source": [
        ""
      ],
      "execution_count": null,
      "outputs": []
    }
  ]
}